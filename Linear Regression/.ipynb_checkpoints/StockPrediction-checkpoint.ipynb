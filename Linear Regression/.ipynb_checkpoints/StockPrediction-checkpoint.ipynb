{
 "cells": [
  {
   "cell_type": "code",
   "execution_count": 57,
   "metadata": {
    "collapsed": false
   },
   "outputs": [
    {
     "name": "stdout",
     "output_type": "stream",
     "text": [
      "[ 86.2084225   85.58155432  85.93022591  87.03583784  87.95497092\n",
      "  87.59305606  87.61824646  87.44390383  88.99128592  89.33293316\n",
      "  90.13152741  90.11128894  91.2819557 ]\n"
     ]
    }
   ],
   "source": [
    "import pandas \n",
    "import quandl\n",
    "import math, datetime\n",
    "import time\n",
    "import numpy as np\n",
    "import sklearn\n",
    "from pandas.tools.plotting import scatter_matrix\n",
    "import matplotlib.pyplot as plt\n",
    "\n",
    "from sklearn.metrics import accuracy_score\n",
    "from sklearn.linear_model import LogisticRegression\n",
    "from sklearn.linear_model import LinearRegression\n",
    "from sklearn.tree import DecisionTreeClassifier\n",
    "from sklearn.neighbors import KNeighborsClassifier\n",
    "from sklearn.naive_bayes import GaussianNB\n",
    "from sklearn.svm import SVC\n",
    "from matplotlib import style\n",
    "\n",
    "style.use('ggplot')\n",
    "\n",
    "df = pandas.read_csv('JPMC34.SA.csv')\n",
    "\n",
    "df ['OC_Change'] = (df['Close']-df['Open'])/ df['Open'] *100\n",
    "df ['HL_Change'] = (df['High']-df['Low'])/ df['Low'] *100\n",
    "\n",
    "df=df[['Close', 'HL_Change','OC_Change','Volume']]\n",
    "\n",
    "\n",
    "forecast_col = 'Close'\n",
    "\n",
    "forecast_out = int(math.ceil(0.01*len(df)))\n",
    "\n",
    "df['label'] = df[forecast_col].shift(--forecast_out)\n",
    "\n",
    "df.dropna(inplace=True)\n",
    "\n",
    "X = np.array(df.drop(['label'],1))\n",
    "Y = np.array(df['label'])\n",
    "\n",
    "X_train, X_test, Y_train, Y_test = sklearn.model_selection.train_test_split(X,Y,test_size=0.2)\n",
    "\n",
    "clf = LinearRegression()\n",
    "\n",
    "clf.fit(X_train,Y_train)\n",
    "\n",
    "accuracy=clf.score(X_test, Y_test)\n",
    "\n",
    "X =  X[:-forecast_out]\n",
    "\n",
    "X_lately = X[-forecast_out:]\n",
    "Forecast_set = clf.predict(X_lately)\n",
    "\n",
    "print(Forecast_set)\n",
    "\n"
   ]
  },
  {
   "cell_type": "code",
   "execution_count": null,
   "metadata": {
    "collapsed": true
   },
   "outputs": [],
   "source": []
  }
 ],
 "metadata": {
  "kernelspec": {
   "display_name": "Python 3",
   "language": "python",
   "name": "python3"
  },
  "language_info": {
   "codemirror_mode": {
    "name": "ipython",
    "version": 3
   },
   "file_extension": ".py",
   "mimetype": "text/x-python",
   "name": "python",
   "nbconvert_exporter": "python",
   "pygments_lexer": "ipython3",
   "version": "3.6.0"
  }
 },
 "nbformat": 4,
 "nbformat_minor": 2
}
